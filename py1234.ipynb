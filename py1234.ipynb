{
  "nbformat": 4,
  "nbformat_minor": 0,
  "metadata": {
    "colab": {
      "name": "py1234.ipynb",
      "provenance": [],
      "collapsed_sections": []
    },
    "kernelspec": {
      "name": "python3",
      "display_name": "Python 3"
    },
    "accelerator": "GPU"
  },
  "cells": [
    {
      "cell_type": "code",
      "metadata": {
        "id": "FVLvUdXNv_kX",
        "colab_type": "code",
        "colab": {
          "base_uri": "https://localhost:8080/",
          "height": 124
        },
        "outputId": "1cda3290-271d-48bf-aea2-b5bead22ee48"
      },
      "source": [
        "from google.colab import drive\n",
        "drive.mount('/content/drive')"
      ],
      "execution_count": null,
      "outputs": [
        {
          "output_type": "stream",
          "text": [
            "Go to this URL in a browser: https://accounts.google.com/o/oauth2/auth?client_id=947318989803-6bn6qk8qdgf4n4g3pfee6491hc0brc4i.apps.googleusercontent.com&redirect_uri=urn%3aietf%3awg%3aoauth%3a2.0%3aoob&response_type=code&scope=email%20https%3a%2f%2fwww.googleapis.com%2fauth%2fdocs.test%20https%3a%2f%2fwww.googleapis.com%2fauth%2fdrive%20https%3a%2f%2fwww.googleapis.com%2fauth%2fdrive.photos.readonly%20https%3a%2f%2fwww.googleapis.com%2fauth%2fpeopleapi.readonly\n",
            "\n",
            "Enter your authorization code:\n",
            "··········\n",
            "Mounted at /content/drive\n"
          ],
          "name": "stdout"
        }
      ]
    },
    {
      "cell_type": "code",
      "metadata": {
        "id": "npgB4WmKwHBb",
        "colab_type": "code",
        "colab": {}
      },
      "source": [
        "import torch\n",
        "import torch.nn as nn\n",
        "import torch.nn.functional as F\n",
        "import torch.optim as optim\n",
        "import torch.utils.data as data\n",
        "\n",
        "import torchvision.transforms as transforms\n",
        "import torchvision.datasets as datasets\n",
        "\n",
        "from sklearn import decomposition\n",
        "from sklearn import manifold\n",
        "from sklearn.metrics import confusion_matrix\n",
        "from sklearn.metrics import ConfusionMatrixDisplay\n",
        "import matplotlib.pyplot as plt\n",
        "import numpy as np\n",
        "\n",
        "import copy\n",
        "import random\n",
        "import time\n",
        "import torchvision.models as models"
      ],
      "execution_count": 1,
      "outputs": []
    },
    {
      "cell_type": "code",
      "metadata": {
        "id": "0uAd9QnqwVjc",
        "colab_type": "code",
        "colab": {}
      },
      "source": [
        "from sklearn import decomposition\n",
        "from sklearn import manifold\n",
        "from sklearn.metrics import confusion_matrix\n",
        "from sklearn.metrics import ConfusionMatrixDisplay\n",
        "import matplotlib.pyplot as plt\n",
        "import numpy as np\n",
        "\n",
        "import copy\n",
        "from collections import namedtuple\n",
        "import os\n",
        "import random\n",
        "import shutil\n",
        "import time"
      ],
      "execution_count": 2,
      "outputs": []
    },
    {
      "cell_type": "code",
      "metadata": {
        "id": "8awP_6bewZV_",
        "colab_type": "code",
        "colab": {}
      },
      "source": [
        "SEED = 1234\n",
        "\n",
        "random.seed(SEED)\n",
        "np.random.seed(SEED)\n",
        "torch.manual_seed(SEED)\n",
        "torch.cuda.manual_seed(SEED)\n",
        "torch.backends.cudnn.deterministic = True"
      ],
      "execution_count": 3,
      "outputs": []
    },
    {
      "cell_type": "code",
      "metadata": {
        "id": "hy8jVjoewdAQ",
        "colab_type": "code",
        "colab": {}
      },
      "source": [
        "train_transforms = transforms.Compose([\n",
        "                            transforms.Resize((224, 224)),\n",
        "                            transforms.RandomRotation(5),\n",
        "                            transforms.RandomHorizontalFlip(0.5),\n",
        "                            transforms.RandomCrop((224,224), padding = 10),\n",
        "                            transforms.ToTensor()\n",
        "                                      ])"
      ],
      "execution_count": 4,
      "outputs": []
    },
    {
      "cell_type": "code",
      "metadata": {
        "id": "Iy0ucEgKwf3T",
        "colab_type": "code",
        "colab": {}
      },
      "source": [
        "valid_transforms = transforms.Compose([\n",
        "                            transforms.Resize((224, 224)),\n",
        "                            transforms.CenterCrop((224,224)),\n",
        "                            transforms.ToTensor()\n",
        "                                      ])"
      ],
      "execution_count": 5,
      "outputs": []
    },
    {
      "cell_type": "code",
      "metadata": {
        "id": "vXIDrI2dwi2G",
        "colab_type": "code",
        "colab": {}
      },
      "source": [
        "train_data = datasets.ImageFolder(root = '/content/drive/My Drive/Retail Pulse ML Assignment Data/train',transform=train_transforms)"
      ],
      "execution_count": 6,
      "outputs": []
    },
    {
      "cell_type": "code",
      "metadata": {
        "id": "7EMWUl33y5WG",
        "colab_type": "code",
        "colab": {}
      },
      "source": [
        "fil1 = open('/content/drive/My Drive/Retail Pulse ML Assignment Data/images_family_train.txt', 'r') \n",
        "Lin1 = fil1.readlines() "
      ],
      "execution_count": 7,
      "outputs": []
    },
    {
      "cell_type": "code",
      "metadata": {
        "id": "ONltqeWnzCtj",
        "colab_type": "code",
        "colab": {}
      },
      "source": [
        "c = list()"
      ],
      "execution_count": 8,
      "outputs": []
    },
    {
      "cell_type": "code",
      "metadata": {
        "id": "fqC7XcUNzJqW",
        "colab_type": "code",
        "colab": {}
      },
      "source": [
        "l = 0\n",
        "temp = Lin1[0][8:]\n",
        "for i in range(len(Lin1)):\n",
        "    if(temp == Lin1[i][8:]):\n",
        "        c.append(l)\n",
        "    else:\n",
        "        temp = Lin1[i][8:]\n",
        "        l=l+1\n",
        "        c.append(l)"
      ],
      "execution_count": 9,
      "outputs": []
    },
    {
      "cell_type": "code",
      "metadata": {
        "id": "_9F47IL9zRyU",
        "colab_type": "code",
        "colab": {
          "base_uri": "https://localhost:8080/",
          "height": 35
        },
        "outputId": "34725676-c972-47ea-da65-11e7c12e4a25"
      },
      "source": [
        "print(l)"
      ],
      "execution_count": 10,
      "outputs": [
        {
          "output_type": "stream",
          "text": [
            "69\n"
          ],
          "name": "stdout"
        }
      ]
    },
    {
      "cell_type": "code",
      "metadata": {
        "id": "ZbGEaQHMzMC3",
        "colab_type": "code",
        "colab": {
          "base_uri": "https://localhost:8080/",
          "height": 35
        },
        "outputId": "b410a02e-0473-4515-d260-56cb9dfa4cf1"
      },
      "source": [
        "for i in range(len(Lin1)):\n",
        "    train_data.targets[i] = c[i]\n",
        "print(len(train_data.targets))"
      ],
      "execution_count": 11,
      "outputs": [
        {
          "output_type": "stream",
          "text": [
            "3334\n"
          ],
          "name": "stdout"
        }
      ]
    },
    {
      "cell_type": "code",
      "metadata": {
        "id": "BdewBEmvzOB5",
        "colab_type": "code",
        "colab": {
          "base_uri": "https://localhost:8080/",
          "height": 35
        },
        "outputId": "304d2f3c-ed89-45af-c81d-b3efeff3a33e"
      },
      "source": [
        "print(len(train_data.targets))"
      ],
      "execution_count": 12,
      "outputs": [
        {
          "output_type": "stream",
          "text": [
            "3334\n"
          ],
          "name": "stdout"
        }
      ]
    },
    {
      "cell_type": "code",
      "metadata": {
        "id": "Vp1SEYcuzQxd",
        "colab_type": "code",
        "colab": {
          "base_uri": "https://localhost:8080/",
          "height": 35
        },
        "outputId": "2a6cab6f-d1be-43f4-ddf0-61b724015497"
      },
      "source": [
        "valid_data = datasets.ImageFolder(root = '/content/drive/My Drive/Retail Pulse ML Assignment Data/val',transform=valid_transforms)\n",
        "print(len(valid_data.targets))"
      ],
      "execution_count": 13,
      "outputs": [
        {
          "output_type": "stream",
          "text": [
            "3333\n"
          ],
          "name": "stdout"
        }
      ]
    },
    {
      "cell_type": "code",
      "metadata": {
        "id": "ziZfk5zDbkB_",
        "colab_type": "code",
        "colab": {}
      },
      "source": [
        "fil2 = open('/content/drive/My Drive/Retail Pulse ML Assignment Data/images_family_val.txt', 'r') \n",
        "Lin2 = fil2.readlines() "
      ],
      "execution_count": 14,
      "outputs": []
    },
    {
      "cell_type": "code",
      "metadata": {
        "id": "gZ-wGwxrb54e",
        "colab_type": "code",
        "colab": {}
      },
      "source": [
        "d = list()"
      ],
      "execution_count": 15,
      "outputs": []
    },
    {
      "cell_type": "code",
      "metadata": {
        "id": "_WCftr6ycE9c",
        "colab_type": "code",
        "colab": {}
      },
      "source": [
        "l = 0\n",
        "temp = Lin2[0][8:]\n",
        "for i in range(len(Lin2)):\n",
        "    if(temp == Lin2[i][8:]):\n",
        "        d.append(l)\n",
        "    else:\n",
        "        temp = Lin2[i][8:]\n",
        "        l=l+1\n",
        "        d.append(l)"
      ],
      "execution_count": 16,
      "outputs": []
    },
    {
      "cell_type": "code",
      "metadata": {
        "id": "IQKEcZHycIBa",
        "colab_type": "code",
        "colab": {}
      },
      "source": [
        "for i in range(len(Lin2)):\n",
        "    valid_data.targets[i] = d[i]"
      ],
      "execution_count": 17,
      "outputs": []
    },
    {
      "cell_type": "code",
      "metadata": {
        "id": "F68dX_X2cRyE",
        "colab_type": "code",
        "colab": {
          "base_uri": "https://localhost:8080/",
          "height": 35
        },
        "outputId": "c86d9e0e-4f1c-46be-eb58-58d87a9dd94d"
      },
      "source": [
        "len(valid_data.targets)\n",
        "l"
      ],
      "execution_count": 18,
      "outputs": [
        {
          "output_type": "execute_result",
          "data": {
            "text/plain": [
              "69"
            ]
          },
          "metadata": {
            "tags": []
          },
          "execution_count": 18
        }
      ]
    },
    {
      "cell_type": "code",
      "metadata": {
        "id": "UuJjejKOzn3W",
        "colab_type": "code",
        "colab": {}
      },
      "source": [
        "BATCH_SIZE = 8\n",
        "train_iterator = data.DataLoader(train_data, \n",
        "                                 shuffle = True, \n",
        "                                 batch_size = BATCH_SIZE)\n",
        "\n",
        "valid_iterator = data.DataLoader(valid_data, \n",
        "                                 batch_size = BATCH_SIZE)"
      ],
      "execution_count": 19,
      "outputs": []
    },
    {
      "cell_type": "code",
      "metadata": {
        "id": "08gje-871air",
        "colab_type": "code",
        "colab": {}
      },
      "source": [
        "device = torch.device('cuda' if torch.cuda.is_available() else 'cpu')"
      ],
      "execution_count": 20,
      "outputs": []
    },
    {
      "cell_type": "code",
      "metadata": {
        "id": "feg2iZWP13e2",
        "colab_type": "code",
        "colab": {}
      },
      "source": [
        "model = models.resnet50(pretrained=True).to(device)\n",
        "i=0\n",
        "for param in model.parameters():\n",
        "  if i<154:\n",
        "    param.requires_grad=False\n",
        "    i=i+1\n",
        "model.fc = nn.Sequential(\n",
        "               nn.Linear(2048, 496),\n",
        "               nn.ReLU(inplace=True),\n",
        "               nn.Linear(496, 100)).to(device)"
      ],
      "execution_count": 21,
      "outputs": []
    },
    {
      "cell_type": "code",
      "metadata": {
        "id": "hMybria-16z2",
        "colab_type": "code",
        "colab": {
          "base_uri": "https://localhost:8080/",
          "height": 35
        },
        "outputId": "287e57da-b844-4350-96ab-5ba4c0e07590"
      },
      "source": [
        "def count_parameters(model):\n",
        "    return sum(p.numel() for p in model.parameters() if p.requires_grad)\n",
        "\n",
        "print(f'The model has {count_parameters(model):,} trainable parameters')"
      ],
      "execution_count": 22,
      "outputs": [
        {
          "output_type": "stream",
          "text": [
            "The model has 2,119,700 trainable parameters\n"
          ],
          "name": "stdout"
        }
      ]
    },
    {
      "cell_type": "code",
      "metadata": {
        "id": "p60HnS-M2BDJ",
        "colab_type": "code",
        "colab": {}
      },
      "source": [
        "def softmax(x):\n",
        "    exp_x = torch.exp(x)\n",
        "    sum_x = torch.sum(exp_x[0:70], dim=1, keepdim=True)\n",
        "\n",
        "    return exp_x/sum_x\n",
        "\n",
        "def log_softmax(x):\n",
        "    return torch.log(softmax(x))\n",
        "\n",
        "def CrossEntropyLoss(outputs, targets):\n",
        "    num_examples = targets.shape[0]\n",
        "    batch_size = outputs.shape[0]\n",
        "    outputs = log_softmax(outputs[0:70])\n",
        "    outputs = outputs[range(batch_size), targets]\n",
        "    return - torch.sum(outputs)/num_examples\n",
        "optimizer = optim.Adam(model.parameters(), lr = 1e-04)"
      ],
      "execution_count": 23,
      "outputs": []
    },
    {
      "cell_type": "code",
      "metadata": {
        "id": "QzWG6Gii328s",
        "colab_type": "code",
        "colab": {}
      },
      "source": [
        "def calculate_accuracy(y_pred, y):\n",
        "    top_pred = y_pred.argmax(1, keepdim = True)\n",
        "    correct = top_pred.eq(y.view_as(top_pred)).sum()\n",
        "    acc = correct.float() / y.shape[0]\n",
        "    return acc"
      ],
      "execution_count": 24,
      "outputs": []
    },
    {
      "cell_type": "code",
      "metadata": {
        "id": "H7Gk7NSi36k3",
        "colab_type": "code",
        "colab": {}
      },
      "source": [
        "def train(model, iterator, optimizer, criterion, device):\n",
        "    \n",
        "    epoch_loss = 0\n",
        "    epoch_acc = 0\n",
        "    \n",
        "    model.train()\n",
        "    \n",
        "    for (x, y) in iterator:\n",
        "        \n",
        "        x = x.to(device)\n",
        "        y = y.to(device)\n",
        "        \n",
        "        optimizer.zero_grad()\n",
        "                \n",
        "        y_pred = model(x)\n",
        "        \n",
        "        loss = CrossEntropyLoss(y_pred, y)\n",
        "        \n",
        "        acc = calculate_accuracy(y_pred, y)\n",
        "        \n",
        "        loss.backward()\n",
        "        \n",
        "        optimizer.step()\n",
        "        \n",
        "        epoch_loss += loss.item()\n",
        "        epoch_acc += acc.item()\n",
        "        \n",
        "    return epoch_loss / len(iterator), epoch_acc / len(iterator)"
      ],
      "execution_count": 25,
      "outputs": []
    },
    {
      "cell_type": "code",
      "metadata": {
        "id": "vDnIPmJm39OZ",
        "colab_type": "code",
        "colab": {}
      },
      "source": [
        "def evaluate(model, iterator, criterion, device):\n",
        "    \n",
        "    epoch_loss = 0\n",
        "    epoch_acc = 0\n",
        "    \n",
        "    model.eval()\n",
        "    \n",
        "    with torch.no_grad():\n",
        "        \n",
        "        for (x, y) in iterator:\n",
        "\n",
        "            x = x.to(device)\n",
        "            y = y.to(device)\n",
        "\n",
        "            y_pred = model(x)\n",
        "\n",
        "            loss = CrossEntropyLoss(y_pred, y)\n",
        "\n",
        "            acc = calculate_accuracy(y_pred, y)\n",
        "\n",
        "            epoch_loss += loss.item()\n",
        "            epoch_acc += acc.item()\n",
        "        \n",
        "    return epoch_loss / len(iterator), epoch_acc / len(iterator)"
      ],
      "execution_count": 26,
      "outputs": []
    },
    {
      "cell_type": "code",
      "metadata": {
        "id": "eYBYaeZf3_29",
        "colab_type": "code",
        "colab": {}
      },
      "source": [
        "def epoch_time(start_time, end_time):\n",
        "    elapsed_time = end_time - start_time\n",
        "    elapsed_mins = int(elapsed_time / 60)\n",
        "    elapsed_secs = int(elapsed_time - (elapsed_mins * 60))\n",
        "    return elapsed_mins, elapsed_secs"
      ],
      "execution_count": 27,
      "outputs": []
    },
    {
      "cell_type": "code",
      "metadata": {
        "id": "gZRmEzDC4Cat",
        "colab_type": "code",
        "colab": {
          "base_uri": "https://localhost:8080/",
          "height": 1000
        },
        "outputId": "27df32e7-a8ba-498b-87de-bb2f6765c201"
      },
      "source": [
        "EPOCHS = 300\n",
        "\n",
        "best_valid_loss = float('inf')\n",
        "\n",
        "for epoch in range(EPOCHS):\n",
        "    \n",
        "    start_time = time.time()\n",
        "    \n",
        "    train_loss, train_acc = train(model, train_iterator, optimizer, CrossEntropyLoss, device)\n",
        "    valid_loss, valid_acc = evaluate(model, valid_iterator, CrossEntropyLoss, device)\n",
        "    \n",
        "    if valid_loss < best_valid_loss :\n",
        "        best_valid_loss = valid_loss\n",
        "        torch.save(model.state_dict(), 'tut2-model.pt')\n",
        "    \n",
        "    end_time = time.time()\n",
        "\n",
        "    epoch_mins, epoch_secs = epoch_time(start_time, end_time)\n",
        "    \n",
        "    print(f'Epoch: {epoch+1:02} | Epoch Time: {epoch_mins}m {epoch_secs}s')\n",
        "    print(f'\\tTrain Loss: {train_loss:.3f} | Train Acc: {train_acc*100:.2f}%')\n",
        "    print(f'\\t Val. Loss: {valid_loss:.3f} |  Val. Acc: {valid_acc*100:.2f}%')"
      ],
      "execution_count": 28,
      "outputs": [
        {
          "output_type": "stream",
          "text": [
            "Epoch: 01 | Epoch Time: 98m 54s\n",
            "\tTrain Loss: 4.606 | Train Acc: 1.74%\n",
            "\t Val. Loss: 4.547 |  Val. Acc: 3.87%\n",
            "Epoch: 02 | Epoch Time: 1m 15s\n",
            "\tTrain Loss: 4.472 | Train Acc: 5.14%\n",
            "\t Val. Loss: 4.359 |  Val. Acc: 4.92%\n",
            "Epoch: 03 | Epoch Time: 1m 15s\n",
            "\tTrain Loss: 4.226 | Train Acc: 6.03%\n",
            "\t Val. Loss: 4.100 |  Val. Acc: 8.54%\n",
            "Epoch: 04 | Epoch Time: 1m 15s\n",
            "\tTrain Loss: 3.996 | Train Acc: 8.81%\n",
            "\t Val. Loss: 3.896 |  Val. Acc: 9.14%\n",
            "Epoch: 05 | Epoch Time: 1m 15s\n",
            "\tTrain Loss: 3.820 | Train Acc: 11.54%\n",
            "\t Val. Loss: 3.764 |  Val. Acc: 11.87%\n",
            "Epoch: 06 | Epoch Time: 1m 16s\n",
            "\tTrain Loss: 3.725 | Train Acc: 13.43%\n",
            "\t Val. Loss: 3.699 |  Val. Acc: 12.65%\n",
            "Epoch: 07 | Epoch Time: 1m 15s\n",
            "\tTrain Loss: 3.627 | Train Acc: 14.43%\n",
            "\t Val. Loss: 3.618 |  Val. Acc: 12.85%\n",
            "Epoch: 08 | Epoch Time: 1m 15s\n",
            "\tTrain Loss: 3.512 | Train Acc: 16.76%\n",
            "\t Val. Loss: 3.598 |  Val. Acc: 13.58%\n",
            "Epoch: 09 | Epoch Time: 1m 15s\n",
            "\tTrain Loss: 3.435 | Train Acc: 17.16%\n",
            "\t Val. Loss: 3.533 |  Val. Acc: 14.03%\n",
            "Epoch: 10 | Epoch Time: 1m 16s\n",
            "\tTrain Loss: 3.389 | Train Acc: 19.00%\n",
            "\t Val. Loss: 3.475 |  Val. Acc: 15.17%\n",
            "Epoch: 11 | Epoch Time: 1m 15s\n",
            "\tTrain Loss: 3.332 | Train Acc: 19.32%\n",
            "\t Val. Loss: 3.477 |  Val. Acc: 15.53%\n",
            "Epoch: 12 | Epoch Time: 1m 15s\n",
            "\tTrain Loss: 3.263 | Train Acc: 21.06%\n",
            "\t Val. Loss: 3.438 |  Val. Acc: 16.29%\n",
            "Epoch: 13 | Epoch Time: 1m 15s\n",
            "\tTrain Loss: 3.198 | Train Acc: 21.52%\n",
            "\t Val. Loss: 3.414 |  Val. Acc: 16.19%\n",
            "Epoch: 14 | Epoch Time: 1m 16s\n",
            "\tTrain Loss: 3.151 | Train Acc: 22.12%\n",
            "\t Val. Loss: 3.410 |  Val. Acc: 16.12%\n",
            "Epoch: 15 | Epoch Time: 1m 15s\n",
            "\tTrain Loss: 3.108 | Train Acc: 23.38%\n",
            "\t Val. Loss: 3.381 |  Val. Acc: 17.79%\n",
            "Epoch: 16 | Epoch Time: 1m 15s\n",
            "\tTrain Loss: 3.090 | Train Acc: 23.53%\n",
            "\t Val. Loss: 3.361 |  Val. Acc: 18.00%\n",
            "Epoch: 17 | Epoch Time: 1m 15s\n",
            "\tTrain Loss: 3.055 | Train Acc: 24.43%\n",
            "\t Val. Loss: 3.340 |  Val. Acc: 17.91%\n",
            "Epoch: 18 | Epoch Time: 1m 15s\n",
            "\tTrain Loss: 3.002 | Train Acc: 25.33%\n",
            "\t Val. Loss: 3.399 |  Val. Acc: 17.45%\n",
            "Epoch: 19 | Epoch Time: 1m 15s\n",
            "\tTrain Loss: 2.976 | Train Acc: 26.00%\n",
            "\t Val. Loss: 3.348 |  Val. Acc: 18.23%\n",
            "Epoch: 20 | Epoch Time: 1m 15s\n",
            "\tTrain Loss: 2.942 | Train Acc: 26.96%\n",
            "\t Val. Loss: 3.339 |  Val. Acc: 19.04%\n",
            "Epoch: 21 | Epoch Time: 1m 14s\n",
            "\tTrain Loss: 2.932 | Train Acc: 27.16%\n",
            "\t Val. Loss: 3.307 |  Val. Acc: 19.54%\n",
            "Epoch: 22 | Epoch Time: 1m 14s\n",
            "\tTrain Loss: 2.918 | Train Acc: 27.15%\n",
            "\t Val. Loss: 3.363 |  Val. Acc: 18.47%\n",
            "Epoch: 23 | Epoch Time: 1m 15s\n",
            "\tTrain Loss: 2.871 | Train Acc: 28.51%\n",
            "\t Val. Loss: 3.343 |  Val. Acc: 19.39%\n",
            "Epoch: 24 | Epoch Time: 1m 14s\n",
            "\tTrain Loss: 2.847 | Train Acc: 28.69%\n",
            "\t Val. Loss: 3.285 |  Val. Acc: 19.53%\n",
            "Epoch: 25 | Epoch Time: 1m 14s\n",
            "\tTrain Loss: 2.779 | Train Acc: 30.02%\n",
            "\t Val. Loss: 3.301 |  Val. Acc: 19.91%\n",
            "Epoch: 26 | Epoch Time: 1m 14s\n",
            "\tTrain Loss: 2.796 | Train Acc: 29.05%\n",
            "\t Val. Loss: 3.249 |  Val. Acc: 20.43%\n",
            "Epoch: 27 | Epoch Time: 1m 15s\n",
            "\tTrain Loss: 2.764 | Train Acc: 30.62%\n",
            "\t Val. Loss: 3.297 |  Val. Acc: 19.85%\n",
            "Epoch: 28 | Epoch Time: 1m 14s\n",
            "\tTrain Loss: 2.739 | Train Acc: 30.41%\n",
            "\t Val. Loss: 3.300 |  Val. Acc: 19.43%\n",
            "Epoch: 29 | Epoch Time: 1m 14s\n",
            "\tTrain Loss: 2.699 | Train Acc: 31.62%\n",
            "\t Val. Loss: 3.267 |  Val. Acc: 20.83%\n",
            "Epoch: 30 | Epoch Time: 1m 14s\n",
            "\tTrain Loss: 2.684 | Train Acc: 32.60%\n",
            "\t Val. Loss: 3.285 |  Val. Acc: 20.43%\n",
            "Epoch: 31 | Epoch Time: 1m 15s\n",
            "\tTrain Loss: 2.676 | Train Acc: 31.47%\n",
            "\t Val. Loss: 3.345 |  Val. Acc: 20.43%\n",
            "Epoch: 32 | Epoch Time: 1m 14s\n",
            "\tTrain Loss: 2.669 | Train Acc: 33.08%\n",
            "\t Val. Loss: 3.279 |  Val. Acc: 20.76%\n",
            "Epoch: 33 | Epoch Time: 1m 14s\n",
            "\tTrain Loss: 2.610 | Train Acc: 32.91%\n",
            "\t Val. Loss: 3.306 |  Val. Acc: 20.36%\n",
            "Epoch: 34 | Epoch Time: 1m 14s\n",
            "\tTrain Loss: 2.582 | Train Acc: 33.78%\n",
            "\t Val. Loss: 3.305 |  Val. Acc: 20.34%\n",
            "Epoch: 35 | Epoch Time: 1m 16s\n",
            "\tTrain Loss: 2.623 | Train Acc: 32.53%\n",
            "\t Val. Loss: 3.272 |  Val. Acc: 20.81%\n",
            "Epoch: 36 | Epoch Time: 1m 14s\n",
            "\tTrain Loss: 2.557 | Train Acc: 34.52%\n",
            "\t Val. Loss: 3.254 |  Val. Acc: 21.25%\n",
            "Epoch: 37 | Epoch Time: 1m 14s\n",
            "\tTrain Loss: 2.566 | Train Acc: 34.37%\n",
            "\t Val. Loss: 3.320 |  Val. Acc: 21.00%\n",
            "Epoch: 38 | Epoch Time: 1m 14s\n",
            "\tTrain Loss: 2.510 | Train Acc: 36.03%\n",
            "\t Val. Loss: 3.291 |  Val. Acc: 20.18%\n",
            "Epoch: 39 | Epoch Time: 1m 16s\n",
            "\tTrain Loss: 2.499 | Train Acc: 36.16%\n",
            "\t Val. Loss: 3.254 |  Val. Acc: 21.89%\n",
            "Epoch: 40 | Epoch Time: 1m 15s\n",
            "\tTrain Loss: 2.480 | Train Acc: 36.59%\n",
            "\t Val. Loss: 3.289 |  Val. Acc: 20.94%\n",
            "Epoch: 41 | Epoch Time: 1m 15s\n",
            "\tTrain Loss: 2.489 | Train Acc: 35.08%\n",
            "\t Val. Loss: 3.260 |  Val. Acc: 22.11%\n",
            "Epoch: 42 | Epoch Time: 1m 15s\n",
            "\tTrain Loss: 2.464 | Train Acc: 36.33%\n",
            "\t Val. Loss: 3.242 |  Val. Acc: 21.71%\n",
            "Epoch: 43 | Epoch Time: 1m 16s\n",
            "\tTrain Loss: 2.456 | Train Acc: 36.00%\n",
            "\t Val. Loss: 3.337 |  Val. Acc: 20.42%\n",
            "Epoch: 44 | Epoch Time: 1m 15s\n",
            "\tTrain Loss: 2.460 | Train Acc: 35.72%\n",
            "\t Val. Loss: 3.294 |  Val. Acc: 21.26%\n",
            "Epoch: 45 | Epoch Time: 1m 15s\n",
            "\tTrain Loss: 2.393 | Train Acc: 38.32%\n",
            "\t Val. Loss: 3.288 |  Val. Acc: 21.54%\n",
            "Epoch: 46 | Epoch Time: 1m 15s\n",
            "\tTrain Loss: 2.418 | Train Acc: 37.09%\n",
            "\t Val. Loss: 3.305 |  Val. Acc: 21.49%\n",
            "Epoch: 47 | Epoch Time: 1m 16s\n",
            "\tTrain Loss: 2.386 | Train Acc: 37.66%\n",
            "\t Val. Loss: 3.312 |  Val. Acc: 21.05%\n",
            "Epoch: 48 | Epoch Time: 1m 15s\n",
            "\tTrain Loss: 2.381 | Train Acc: 38.60%\n",
            "\t Val. Loss: 3.297 |  Val. Acc: 21.89%\n",
            "Epoch: 49 | Epoch Time: 1m 15s\n",
            "\tTrain Loss: 2.319 | Train Acc: 39.44%\n",
            "\t Val. Loss: 3.332 |  Val. Acc: 20.82%\n",
            "Epoch: 50 | Epoch Time: 1m 15s\n",
            "\tTrain Loss: 2.375 | Train Acc: 38.80%\n",
            "\t Val. Loss: 3.336 |  Val. Acc: 20.69%\n",
            "Epoch: 51 | Epoch Time: 1m 15s\n",
            "\tTrain Loss: 2.290 | Train Acc: 40.17%\n",
            "\t Val. Loss: 3.322 |  Val. Acc: 21.23%\n",
            "Epoch: 52 | Epoch Time: 1m 15s\n",
            "\tTrain Loss: 2.336 | Train Acc: 38.53%\n",
            "\t Val. Loss: 3.321 |  Val. Acc: 21.31%\n",
            "Epoch: 53 | Epoch Time: 1m 15s\n",
            "\tTrain Loss: 2.271 | Train Acc: 39.94%\n",
            "\t Val. Loss: 3.320 |  Val. Acc: 21.76%\n",
            "Epoch: 54 | Epoch Time: 1m 15s\n",
            "\tTrain Loss: 2.272 | Train Acc: 40.13%\n",
            "\t Val. Loss: 3.289 |  Val. Acc: 22.42%\n",
            "Epoch: 55 | Epoch Time: 1m 15s\n",
            "\tTrain Loss: 2.269 | Train Acc: 40.59%\n",
            "\t Val. Loss: 3.319 |  Val. Acc: 22.33%\n"
          ],
          "name": "stdout"
        },
        {
          "output_type": "error",
          "ename": "KeyboardInterrupt",
          "evalue": "ignored",
          "traceback": [
            "\u001b[0;31m---------------------------------------------------------------------------\u001b[0m",
            "\u001b[0;31mKeyboardInterrupt\u001b[0m                         Traceback (most recent call last)",
            "\u001b[0;32m<ipython-input-28-3c48cc33264a>\u001b[0m in \u001b[0;36m<module>\u001b[0;34m()\u001b[0m\n\u001b[1;32m      7\u001b[0m     \u001b[0mstart_time\u001b[0m \u001b[0;34m=\u001b[0m \u001b[0mtime\u001b[0m\u001b[0;34m.\u001b[0m\u001b[0mtime\u001b[0m\u001b[0;34m(\u001b[0m\u001b[0;34m)\u001b[0m\u001b[0;34m\u001b[0m\u001b[0;34m\u001b[0m\u001b[0m\n\u001b[1;32m      8\u001b[0m \u001b[0;34m\u001b[0m\u001b[0m\n\u001b[0;32m----> 9\u001b[0;31m     \u001b[0mtrain_loss\u001b[0m\u001b[0;34m,\u001b[0m \u001b[0mtrain_acc\u001b[0m \u001b[0;34m=\u001b[0m \u001b[0mtrain\u001b[0m\u001b[0;34m(\u001b[0m\u001b[0mmodel\u001b[0m\u001b[0;34m,\u001b[0m \u001b[0mtrain_iterator\u001b[0m\u001b[0;34m,\u001b[0m \u001b[0moptimizer\u001b[0m\u001b[0;34m,\u001b[0m \u001b[0mCrossEntropyLoss\u001b[0m\u001b[0;34m,\u001b[0m \u001b[0mdevice\u001b[0m\u001b[0;34m)\u001b[0m\u001b[0;34m\u001b[0m\u001b[0;34m\u001b[0m\u001b[0m\n\u001b[0m\u001b[1;32m     10\u001b[0m     \u001b[0mvalid_loss\u001b[0m\u001b[0;34m,\u001b[0m \u001b[0mvalid_acc\u001b[0m \u001b[0;34m=\u001b[0m \u001b[0mevaluate\u001b[0m\u001b[0;34m(\u001b[0m\u001b[0mmodel\u001b[0m\u001b[0;34m,\u001b[0m \u001b[0mvalid_iterator\u001b[0m\u001b[0;34m,\u001b[0m \u001b[0mCrossEntropyLoss\u001b[0m\u001b[0;34m,\u001b[0m \u001b[0mdevice\u001b[0m\u001b[0;34m)\u001b[0m\u001b[0;34m\u001b[0m\u001b[0;34m\u001b[0m\u001b[0m\n\u001b[1;32m     11\u001b[0m \u001b[0;34m\u001b[0m\u001b[0m\n",
            "\u001b[0;32m<ipython-input-25-7113de2fbcb5>\u001b[0m in \u001b[0;36mtrain\u001b[0;34m(model, iterator, optimizer, criterion, device)\u001b[0m\n\u001b[1;32m     15\u001b[0m         \u001b[0my_pred\u001b[0m \u001b[0;34m=\u001b[0m \u001b[0mmodel\u001b[0m\u001b[0;34m(\u001b[0m\u001b[0mx\u001b[0m\u001b[0;34m)\u001b[0m\u001b[0;34m\u001b[0m\u001b[0;34m\u001b[0m\u001b[0m\n\u001b[1;32m     16\u001b[0m \u001b[0;34m\u001b[0m\u001b[0m\n\u001b[0;32m---> 17\u001b[0;31m         \u001b[0mloss\u001b[0m \u001b[0;34m=\u001b[0m \u001b[0mCrossEntropyLoss\u001b[0m\u001b[0;34m(\u001b[0m\u001b[0my_pred\u001b[0m\u001b[0;34m,\u001b[0m \u001b[0my\u001b[0m\u001b[0;34m)\u001b[0m\u001b[0;34m\u001b[0m\u001b[0;34m\u001b[0m\u001b[0m\n\u001b[0m\u001b[1;32m     18\u001b[0m \u001b[0;34m\u001b[0m\u001b[0m\n\u001b[1;32m     19\u001b[0m         \u001b[0macc\u001b[0m \u001b[0;34m=\u001b[0m \u001b[0mcalculate_accuracy\u001b[0m\u001b[0;34m(\u001b[0m\u001b[0my_pred\u001b[0m\u001b[0;34m,\u001b[0m \u001b[0my\u001b[0m\u001b[0;34m)\u001b[0m\u001b[0;34m\u001b[0m\u001b[0;34m\u001b[0m\u001b[0m\n",
            "\u001b[0;32m<ipython-input-23-7cbeb3a961e1>\u001b[0m in \u001b[0;36mCrossEntropyLoss\u001b[0;34m(outputs, targets)\u001b[0m\n\u001b[1;32m     12\u001b[0m     \u001b[0mbatch_size\u001b[0m \u001b[0;34m=\u001b[0m \u001b[0moutputs\u001b[0m\u001b[0;34m.\u001b[0m\u001b[0mshape\u001b[0m\u001b[0;34m[\u001b[0m\u001b[0;36m0\u001b[0m\u001b[0;34m]\u001b[0m\u001b[0;34m\u001b[0m\u001b[0;34m\u001b[0m\u001b[0m\n\u001b[1;32m     13\u001b[0m     \u001b[0moutputs\u001b[0m \u001b[0;34m=\u001b[0m \u001b[0mlog_softmax\u001b[0m\u001b[0;34m(\u001b[0m\u001b[0moutputs\u001b[0m\u001b[0;34m[\u001b[0m\u001b[0;36m0\u001b[0m\u001b[0;34m:\u001b[0m\u001b[0;36m70\u001b[0m\u001b[0;34m]\u001b[0m\u001b[0;34m)\u001b[0m\u001b[0;34m\u001b[0m\u001b[0;34m\u001b[0m\u001b[0m\n\u001b[0;32m---> 14\u001b[0;31m     \u001b[0moutputs\u001b[0m \u001b[0;34m=\u001b[0m \u001b[0moutputs\u001b[0m\u001b[0;34m[\u001b[0m\u001b[0mrange\u001b[0m\u001b[0;34m(\u001b[0m\u001b[0mbatch_size\u001b[0m\u001b[0;34m)\u001b[0m\u001b[0;34m,\u001b[0m \u001b[0mtargets\u001b[0m\u001b[0;34m]\u001b[0m\u001b[0;34m\u001b[0m\u001b[0;34m\u001b[0m\u001b[0m\n\u001b[0m\u001b[1;32m     15\u001b[0m     \u001b[0;32mreturn\u001b[0m \u001b[0;34m-\u001b[0m \u001b[0mtorch\u001b[0m\u001b[0;34m.\u001b[0m\u001b[0msum\u001b[0m\u001b[0;34m(\u001b[0m\u001b[0moutputs\u001b[0m\u001b[0;34m)\u001b[0m\u001b[0;34m/\u001b[0m\u001b[0mnum_examples\u001b[0m\u001b[0;34m\u001b[0m\u001b[0;34m\u001b[0m\u001b[0m\n\u001b[1;32m     16\u001b[0m \u001b[0moptimizer\u001b[0m \u001b[0;34m=\u001b[0m \u001b[0moptim\u001b[0m\u001b[0;34m.\u001b[0m\u001b[0mAdam\u001b[0m\u001b[0;34m(\u001b[0m\u001b[0mmodel\u001b[0m\u001b[0;34m.\u001b[0m\u001b[0mparameters\u001b[0m\u001b[0;34m(\u001b[0m\u001b[0;34m)\u001b[0m\u001b[0;34m,\u001b[0m \u001b[0mlr\u001b[0m \u001b[0;34m=\u001b[0m \u001b[0;36m1e-04\u001b[0m\u001b[0;34m)\u001b[0m\u001b[0;34m\u001b[0m\u001b[0;34m\u001b[0m\u001b[0m\n",
            "\u001b[0;31mKeyboardInterrupt\u001b[0m: "
          ]
        }
      ]
    }
  ]
}