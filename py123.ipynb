{
  "nbformat": 4,
  "nbformat_minor": 0,
  "metadata": {
    "colab": {
      "name": "py123.ipynb",
      "provenance": [],
      "collapsed_sections": []
    },
    "kernelspec": {
      "name": "python3",
      "display_name": "Python 3"
    },
    "accelerator": "GPU"
  },
  "cells": [
    {
      "cell_type": "code",
      "metadata": {
        "id": "FVLvUdXNv_kX",
        "colab_type": "code",
        "colab": {
          "base_uri": "https://localhost:8080/",
          "height": 124
        },
        "outputId": "1cda3290-271d-48bf-aea2-b5bead22ee48"
      },
      "source": [
        "from google.colab import drive\n",
        "drive.mount('/content/drive')"
      ],
      "execution_count": 1,
      "outputs": [
        {
          "output_type": "stream",
          "text": [
            "Go to this URL in a browser: https://accounts.google.com/o/oauth2/auth?client_id=947318989803-6bn6qk8qdgf4n4g3pfee6491hc0brc4i.apps.googleusercontent.com&redirect_uri=urn%3aietf%3awg%3aoauth%3a2.0%3aoob&response_type=code&scope=email%20https%3a%2f%2fwww.googleapis.com%2fauth%2fdocs.test%20https%3a%2f%2fwww.googleapis.com%2fauth%2fdrive%20https%3a%2f%2fwww.googleapis.com%2fauth%2fdrive.photos.readonly%20https%3a%2f%2fwww.googleapis.com%2fauth%2fpeopleapi.readonly\n",
            "\n",
            "Enter your authorization code:\n",
            "··········\n",
            "Mounted at /content/drive\n"
          ],
          "name": "stdout"
        }
      ]
    },
    {
      "cell_type": "code",
      "metadata": {
        "id": "npgB4WmKwHBb",
        "colab_type": "code",
        "colab": {}
      },
      "source": [
        "import torch\n",
        "import torch.nn as nn\n",
        "import torch.nn.functional as F\n",
        "import torch.optim as optim\n",
        "import torch.utils.data as data\n",
        "\n",
        "import torchvision.transforms as transforms\n",
        "import torchvision.datasets as datasets\n",
        "\n",
        "from sklearn import decomposition\n",
        "from sklearn import manifold\n",
        "from sklearn.metrics import confusion_matrix\n",
        "from sklearn.metrics import ConfusionMatrixDisplay\n",
        "import matplotlib.pyplot as plt\n",
        "import numpy as np\n",
        "\n",
        "import copy\n",
        "import random\n",
        "import time\n",
        "import torchvision.models as models"
      ],
      "execution_count": 1,
      "outputs": []
    },
    {
      "cell_type": "code",
      "metadata": {
        "id": "0uAd9QnqwVjc",
        "colab_type": "code",
        "colab": {}
      },
      "source": [
        "from sklearn import decomposition\n",
        "from sklearn import manifold\n",
        "from sklearn.metrics import confusion_matrix\n",
        "from sklearn.metrics import ConfusionMatrixDisplay\n",
        "import matplotlib.pyplot as plt\n",
        "import numpy as np\n",
        "\n",
        "import copy\n",
        "from collections import namedtuple\n",
        "import os\n",
        "import random\n",
        "import shutil\n",
        "import time"
      ],
      "execution_count": 44,
      "outputs": []
    },
    {
      "cell_type": "code",
      "metadata": {
        "id": "8awP_6bewZV_",
        "colab_type": "code",
        "colab": {}
      },
      "source": [
        "SEED = 1234\n",
        "\n",
        "random.seed(SEED)\n",
        "np.random.seed(SEED)\n",
        "torch.manual_seed(SEED)\n",
        "torch.cuda.manual_seed(SEED)\n",
        "torch.backends.cudnn.deterministic = True"
      ],
      "execution_count": 45,
      "outputs": []
    },
    {
      "cell_type": "code",
      "metadata": {
        "id": "hy8jVjoewdAQ",
        "colab_type": "code",
        "colab": {}
      },
      "source": [
        "train_transforms = transforms.Compose([\n",
        "                            transforms.Resize((224, 224)),\n",
        "                            transforms.RandomRotation(5),\n",
        "                            transforms.RandomHorizontalFlip(0.5),\n",
        "                            transforms.RandomCrop((224,224), padding = 10),\n",
        "                            transforms.ToTensor()\n",
        "                                      ])"
      ],
      "execution_count": 46,
      "outputs": []
    },
    {
      "cell_type": "code",
      "metadata": {
        "id": "Iy0ucEgKwf3T",
        "colab_type": "code",
        "colab": {}
      },
      "source": [
        "valid_transforms = transforms.Compose([\n",
        "                            transforms.Resize((224, 224)),\n",
        "                            transforms.CenterCrop((224,224)),\n",
        "                            transforms.ToTensor()\n",
        "                                      ])"
      ],
      "execution_count": 47,
      "outputs": []
    },
    {
      "cell_type": "code",
      "metadata": {
        "id": "vXIDrI2dwi2G",
        "colab_type": "code",
        "colab": {}
      },
      "source": [
        "train_data = datasets.ImageFolder(root = '/content/drive/My Drive/Retail Pulse ML Assignment Data/train',transform=train_transforms)"
      ],
      "execution_count": 48,
      "outputs": []
    },
    {
      "cell_type": "code",
      "metadata": {
        "id": "7EMWUl33y5WG",
        "colab_type": "code",
        "colab": {}
      },
      "source": [
        "fil1 = open('/content/drive/My Drive/Retail Pulse ML Assignment Data/images_family_train.txt', 'r') \n",
        "Lin1 = fil1.readlines() "
      ],
      "execution_count": 49,
      "outputs": []
    },
    {
      "cell_type": "code",
      "metadata": {
        "id": "ONltqeWnzCtj",
        "colab_type": "code",
        "colab": {}
      },
      "source": [
        "c = list()"
      ],
      "execution_count": 50,
      "outputs": []
    },
    {
      "cell_type": "code",
      "metadata": {
        "id": "fqC7XcUNzJqW",
        "colab_type": "code",
        "colab": {}
      },
      "source": [
        "l = 0\n",
        "temp = Lin1[0][8:]\n",
        "for i in range(len(Lin1)):\n",
        "    if(temp == Lin1[i][8:]):\n",
        "        c.append(l)\n",
        "    else:\n",
        "        temp = Lin1[i][8:]\n",
        "        l=l+1\n",
        "        c.append(l)"
      ],
      "execution_count": 51,
      "outputs": []
    },
    {
      "cell_type": "code",
      "metadata": {
        "id": "_9F47IL9zRyU",
        "colab_type": "code",
        "colab": {
          "base_uri": "https://localhost:8080/",
          "height": 35
        },
        "outputId": "10681bea-a155-4622-95f6-fcec55ac76a2"
      },
      "source": [
        "print(l)"
      ],
      "execution_count": 52,
      "outputs": [
        {
          "output_type": "stream",
          "text": [
            "69\n"
          ],
          "name": "stdout"
        }
      ]
    },
    {
      "cell_type": "code",
      "metadata": {
        "id": "ZbGEaQHMzMC3",
        "colab_type": "code",
        "colab": {
          "base_uri": "https://localhost:8080/",
          "height": 35
        },
        "outputId": "8a60e077-ffaa-4a52-845c-de3043169652"
      },
      "source": [
        "for i in range(len(Lin1)):\n",
        "    train_data.targets[i] = c[i]\n",
        "print(len(train_data.targets))"
      ],
      "execution_count": 53,
      "outputs": [
        {
          "output_type": "stream",
          "text": [
            "3334\n"
          ],
          "name": "stdout"
        }
      ]
    },
    {
      "cell_type": "code",
      "metadata": {
        "id": "BdewBEmvzOB5",
        "colab_type": "code",
        "colab": {
          "base_uri": "https://localhost:8080/",
          "height": 35
        },
        "outputId": "eab3afdf-d2f3-4d1d-cd45-1eaff44e8bcc"
      },
      "source": [
        "print(len(train_data.targets))"
      ],
      "execution_count": 54,
      "outputs": [
        {
          "output_type": "stream",
          "text": [
            "3334\n"
          ],
          "name": "stdout"
        }
      ]
    },
    {
      "cell_type": "code",
      "metadata": {
        "id": "Vp1SEYcuzQxd",
        "colab_type": "code",
        "colab": {
          "base_uri": "https://localhost:8080/",
          "height": 35
        },
        "outputId": "03f32c21-ed77-49e9-d9a5-424bab1d7944"
      },
      "source": [
        "valid_data = datasets.ImageFolder(root = '/content/drive/My Drive/Retail Pulse ML Assignment Data/val',transform=valid_transforms)\n",
        "print(len(valid_data.targets))"
      ],
      "execution_count": 55,
      "outputs": [
        {
          "output_type": "stream",
          "text": [
            "3333\n"
          ],
          "name": "stdout"
        }
      ]
    },
    {
      "cell_type": "code",
      "metadata": {
        "id": "ziZfk5zDbkB_",
        "colab_type": "code",
        "colab": {}
      },
      "source": [
        "fil2 = open('/content/drive/My Drive/Retail Pulse ML Assignment Data/images_family_val.txt', 'r') \n",
        "Lin2 = fil2.readlines() "
      ],
      "execution_count": 56,
      "outputs": []
    },
    {
      "cell_type": "code",
      "metadata": {
        "id": "gZ-wGwxrb54e",
        "colab_type": "code",
        "colab": {}
      },
      "source": [
        "d = list()"
      ],
      "execution_count": 57,
      "outputs": []
    },
    {
      "cell_type": "code",
      "metadata": {
        "id": "_WCftr6ycE9c",
        "colab_type": "code",
        "colab": {}
      },
      "source": [
        "l = 0\n",
        "temp = Lin2[0][8:]\n",
        "for i in range(len(Lin2)):\n",
        "    if(temp == Lin2[i][8:]):\n",
        "        d.append(l)\n",
        "    else:\n",
        "        temp = Lin2[i][8:]\n",
        "        l=l+1\n",
        "        d.append(l)"
      ],
      "execution_count": 58,
      "outputs": []
    },
    {
      "cell_type": "code",
      "metadata": {
        "id": "IQKEcZHycIBa",
        "colab_type": "code",
        "colab": {}
      },
      "source": [
        "for i in range(len(Lin2)):\n",
        "    valid_data.targets[i] = d[i]"
      ],
      "execution_count": 59,
      "outputs": []
    },
    {
      "cell_type": "code",
      "metadata": {
        "id": "F68dX_X2cRyE",
        "colab_type": "code",
        "colab": {
          "base_uri": "https://localhost:8080/",
          "height": 35
        },
        "outputId": "6fc18ddb-bf73-470c-a29c-ddecfca195e3"
      },
      "source": [
        "len(valid_data.targets)\n",
        "l"
      ],
      "execution_count": 60,
      "outputs": [
        {
          "output_type": "execute_result",
          "data": {
            "text/plain": [
              "69"
            ]
          },
          "metadata": {
            "tags": []
          },
          "execution_count": 60
        }
      ]
    },
    {
      "cell_type": "code",
      "metadata": {
        "id": "UuJjejKOzn3W",
        "colab_type": "code",
        "colab": {}
      },
      "source": [
        "BATCH_SIZE = 8\n",
        "train_iterator = data.DataLoader(train_data, \n",
        "                                 shuffle = True, \n",
        "                                 batch_size = BATCH_SIZE)\n",
        "\n",
        "valid_iterator = data.DataLoader(valid_data, \n",
        "                                 batch_size = BATCH_SIZE)"
      ],
      "execution_count": 61,
      "outputs": []
    },
    {
      "cell_type": "code",
      "metadata": {
        "id": "08gje-871air",
        "colab_type": "code",
        "colab": {}
      },
      "source": [
        "device = torch.device('cuda' if torch.cuda.is_available() else 'cpu')"
      ],
      "execution_count": 62,
      "outputs": []
    },
    {
      "cell_type": "code",
      "metadata": {
        "id": "feg2iZWP13e2",
        "colab_type": "code",
        "colab": {}
      },
      "source": [
        "model = models.resnet50(pretrained=True).to(device)\n",
        "i=0\n",
        "for param in model.parameters():\n",
        "  if i<154:\n",
        "    param.requires_grad=False\n",
        "    i=i+1\n",
        "    \n",
        "model.fc = nn.Sequential(\n",
        "               nn.Linear(2048, 496),\n",
        "               nn.ReLU(inplace=True),\n",
        "               nn.Linear(496, 100)).to(device)"
      ],
      "execution_count": 63,
      "outputs": []
    },
    {
      "cell_type": "code",
      "metadata": {
        "id": "hMybria-16z2",
        "colab_type": "code",
        "colab": {
          "base_uri": "https://localhost:8080/",
          "height": 35
        },
        "outputId": "4d20fc2b-a7f5-4b04-e809-c23437e0b3dd"
      },
      "source": [
        "def count_parameters(model):\n",
        "    return sum(p.numel() for p in model.parameters() if p.requires_grad)\n",
        "\n",
        "print(f'The model has {count_parameters(model):,} trainable parameters')"
      ],
      "execution_count": 64,
      "outputs": [
        {
          "output_type": "stream",
          "text": [
            "The model has 2,119,700 trainable parameters\n"
          ],
          "name": "stdout"
        }
      ]
    },
    {
      "cell_type": "code",
      "metadata": {
        "id": "p60HnS-M2BDJ",
        "colab_type": "code",
        "colab": {}
      },
      "source": [
        "criterion = nn.CrossEntropyLoss()\n",
        "optimizer = optim.Adam(model.parameters(), lr = 1e-04)\n",
        "criterion = criterion.to(device)"
      ],
      "execution_count": 65,
      "outputs": []
    },
    {
      "cell_type": "code",
      "metadata": {
        "id": "QzWG6Gii328s",
        "colab_type": "code",
        "colab": {}
      },
      "source": [
        "def calculate_accuracy(y_pred, y):\n",
        "    top_pred = y_pred.argmax(1, keepdim = True)\n",
        "    correct = top_pred.eq(y.view_as(top_pred)).sum()\n",
        "    acc = correct.float() / y.shape[0]\n",
        "    return acc"
      ],
      "execution_count": 66,
      "outputs": []
    },
    {
      "cell_type": "code",
      "metadata": {
        "id": "H7Gk7NSi36k3",
        "colab_type": "code",
        "colab": {}
      },
      "source": [
        "def train(model, iterator, optimizer, criterion, device):\n",
        "    \n",
        "    epoch_loss = 0\n",
        "    epoch_acc = 0\n",
        "    \n",
        "    model.train()\n",
        "    \n",
        "    for (x, y) in iterator:\n",
        "        \n",
        "        x = x.to(device)\n",
        "        y = y.to(device)\n",
        "        \n",
        "        optimizer.zero_grad()\n",
        "                \n",
        "        y_pred = model(x)\n",
        "        \n",
        "        loss = criterion(y_pred, y)\n",
        "        \n",
        "        acc = calculate_accuracy(y_pred, y)\n",
        "        \n",
        "        loss.backward()\n",
        "        \n",
        "        optimizer.step()\n",
        "        \n",
        "        epoch_loss += loss.item()\n",
        "        epoch_acc += acc.item()\n",
        "        \n",
        "    return epoch_loss / len(iterator), epoch_acc / len(iterator)"
      ],
      "execution_count": 67,
      "outputs": []
    },
    {
      "cell_type": "code",
      "metadata": {
        "id": "vDnIPmJm39OZ",
        "colab_type": "code",
        "colab": {}
      },
      "source": [
        "def evaluate(model, iterator, criterion, device):\n",
        "    \n",
        "    epoch_loss = 0\n",
        "    epoch_acc = 0\n",
        "    \n",
        "    model.eval()\n",
        "    \n",
        "    with torch.no_grad():\n",
        "        \n",
        "        for (x, y) in iterator:\n",
        "\n",
        "            x = x.to(device)\n",
        "            y = y.to(device)\n",
        "\n",
        "            y_pred = model(x)\n",
        "\n",
        "            loss = criterion(y_pred, y)\n",
        "\n",
        "            acc = calculate_accuracy(y_pred, y)\n",
        "\n",
        "            epoch_loss += loss.item()\n",
        "            epoch_acc += acc.item()\n",
        "        \n",
        "    return epoch_loss / len(iterator), epoch_acc / len(iterator)"
      ],
      "execution_count": 68,
      "outputs": []
    },
    {
      "cell_type": "code",
      "metadata": {
        "id": "eYBYaeZf3_29",
        "colab_type": "code",
        "colab": {}
      },
      "source": [
        "def epoch_time(start_time, end_time):\n",
        "    elapsed_time = end_time - start_time\n",
        "    elapsed_mins = int(elapsed_time / 60)\n",
        "    elapsed_secs = int(elapsed_time - (elapsed_mins * 60))\n",
        "    return elapsed_mins, elapsed_secs"
      ],
      "execution_count": 69,
      "outputs": []
    },
    {
      "cell_type": "code",
      "metadata": {
        "id": "gZRmEzDC4Cat",
        "colab_type": "code",
        "colab": {
          "base_uri": "https://localhost:8080/",
          "height": 1000
        },
        "outputId": "062c4c3f-9af9-4be4-ecb9-2d329d9df84d"
      },
      "source": [
        "EPOCHS = 300\n",
        "\n",
        "best_valid_loss = float('inf')\n",
        "\n",
        "for epoch in range(EPOCHS):\n",
        "    \n",
        "    start_time = time.time()\n",
        "    \n",
        "    train_loss, train_acc = train(model, train_iterator, optimizer, criterion, device)\n",
        "    valid_loss, valid_acc = evaluate(model, valid_iterator, criterion, device)\n",
        "    \n",
        "    if valid_loss < best_valid_loss :\n",
        "        best_valid_loss = valid_loss\n",
        "        torch.save(model.state_dict(), 'tut2-model.pt')\n",
        "    \n",
        "    end_time = time.time()\n",
        "\n",
        "    epoch_mins, epoch_secs = epoch_time(start_time, end_time)\n",
        "    \n",
        "    print(f'Epoch: {epoch+1:02} | Epoch Time: {epoch_mins}m {epoch_secs}s')\n",
        "    print(f'\\tTrain Loss: {train_loss:.3f} | Train Acc: {train_acc*100:.2f}%')\n",
        "    print(f'\\t Val. Loss: {valid_loss:.3f} |  Val. Acc: {valid_acc*100:.2f}%')"
      ],
      "execution_count": 70,
      "outputs": [
        {
          "output_type": "stream",
          "text": [
            "Epoch: 01 | Epoch Time: 0m 36s\n",
            "\tTrain Loss: 4.606 | Train Acc: 1.68%\n",
            "\t Val. Loss: 4.548 |  Val. Acc: 3.54%\n",
            "Epoch: 02 | Epoch Time: 0m 36s\n",
            "\tTrain Loss: 4.476 | Train Acc: 5.05%\n",
            "\t Val. Loss: 4.368 |  Val. Acc: 5.49%\n",
            "Epoch: 03 | Epoch Time: 0m 38s\n",
            "\tTrain Loss: 4.236 | Train Acc: 6.00%\n",
            "\t Val. Loss: 4.107 |  Val. Acc: 8.18%\n",
            "Epoch: 04 | Epoch Time: 0m 36s\n",
            "\tTrain Loss: 4.002 | Train Acc: 8.99%\n",
            "\t Val. Loss: 3.901 |  Val. Acc: 9.53%\n",
            "Epoch: 05 | Epoch Time: 0m 36s\n",
            "\tTrain Loss: 3.825 | Train Acc: 11.33%\n",
            "\t Val. Loss: 3.773 |  Val. Acc: 11.30%\n",
            "Epoch: 06 | Epoch Time: 0m 36s\n",
            "\tTrain Loss: 3.726 | Train Acc: 13.22%\n",
            "\t Val. Loss: 3.703 |  Val. Acc: 12.59%\n",
            "Epoch: 07 | Epoch Time: 0m 36s\n",
            "\tTrain Loss: 3.628 | Train Acc: 14.61%\n",
            "\t Val. Loss: 3.619 |  Val. Acc: 13.18%\n",
            "Epoch: 08 | Epoch Time: 0m 36s\n",
            "\tTrain Loss: 3.508 | Train Acc: 17.25%\n",
            "\t Val. Loss: 3.595 |  Val. Acc: 13.73%\n",
            "Epoch: 09 | Epoch Time: 0m 37s\n",
            "\tTrain Loss: 3.431 | Train Acc: 17.22%\n",
            "\t Val. Loss: 3.533 |  Val. Acc: 14.12%\n",
            "Epoch: 10 | Epoch Time: 0m 36s\n",
            "\tTrain Loss: 3.383 | Train Acc: 19.46%\n",
            "\t Val. Loss: 3.473 |  Val. Acc: 15.17%\n",
            "Epoch: 11 | Epoch Time: 0m 37s\n",
            "\tTrain Loss: 3.325 | Train Acc: 19.87%\n",
            "\t Val. Loss: 3.475 |  Val. Acc: 15.50%\n",
            "Epoch: 12 | Epoch Time: 0m 36s\n",
            "\tTrain Loss: 3.254 | Train Acc: 21.42%\n",
            "\t Val. Loss: 3.438 |  Val. Acc: 16.18%\n",
            "Epoch: 13 | Epoch Time: 0m 36s\n",
            "\tTrain Loss: 3.190 | Train Acc: 22.34%\n",
            "\t Val. Loss: 3.413 |  Val. Acc: 16.31%\n",
            "Epoch: 14 | Epoch Time: 0m 36s\n",
            "\tTrain Loss: 3.144 | Train Acc: 22.60%\n",
            "\t Val. Loss: 3.405 |  Val. Acc: 16.41%\n",
            "Epoch: 15 | Epoch Time: 0m 36s\n",
            "\tTrain Loss: 3.098 | Train Acc: 23.66%\n",
            "\t Val. Loss: 3.380 |  Val. Acc: 17.75%\n",
            "Epoch: 16 | Epoch Time: 0m 36s\n",
            "\tTrain Loss: 3.081 | Train Acc: 23.95%\n",
            "\t Val. Loss: 3.353 |  Val. Acc: 17.97%\n",
            "Epoch: 17 | Epoch Time: 0m 36s\n",
            "\tTrain Loss: 3.044 | Train Acc: 24.94%\n",
            "\t Val. Loss: 3.339 |  Val. Acc: 17.52%\n",
            "Epoch: 18 | Epoch Time: 0m 36s\n",
            "\tTrain Loss: 2.991 | Train Acc: 25.93%\n",
            "\t Val. Loss: 3.386 |  Val. Acc: 17.96%\n",
            "Epoch: 19 | Epoch Time: 0m 36s\n",
            "\tTrain Loss: 2.966 | Train Acc: 25.97%\n",
            "\t Val. Loss: 3.341 |  Val. Acc: 18.08%\n",
            "Epoch: 20 | Epoch Time: 0m 37s\n",
            "\tTrain Loss: 2.929 | Train Acc: 26.93%\n",
            "\t Val. Loss: 3.333 |  Val. Acc: 19.11%\n",
            "Epoch: 21 | Epoch Time: 0m 36s\n",
            "\tTrain Loss: 2.921 | Train Acc: 27.65%\n",
            "\t Val. Loss: 3.295 |  Val. Acc: 19.60%\n",
            "Epoch: 22 | Epoch Time: 0m 36s\n",
            "\tTrain Loss: 2.907 | Train Acc: 27.66%\n",
            "\t Val. Loss: 3.353 |  Val. Acc: 18.26%\n",
            "Epoch: 23 | Epoch Time: 0m 36s\n",
            "\tTrain Loss: 2.859 | Train Acc: 29.33%\n",
            "\t Val. Loss: 3.336 |  Val. Acc: 19.33%\n",
            "Epoch: 24 | Epoch Time: 0m 36s\n",
            "\tTrain Loss: 2.834 | Train Acc: 29.23%\n",
            "\t Val. Loss: 3.281 |  Val. Acc: 19.62%\n",
            "Epoch: 25 | Epoch Time: 0m 36s\n",
            "\tTrain Loss: 2.767 | Train Acc: 29.84%\n",
            "\t Val. Loss: 3.305 |  Val. Acc: 19.82%\n",
            "Epoch: 26 | Epoch Time: 0m 36s\n",
            "\tTrain Loss: 2.782 | Train Acc: 29.61%\n",
            "\t Val. Loss: 3.249 |  Val. Acc: 20.35%\n",
            "Epoch: 27 | Epoch Time: 0m 36s\n",
            "\tTrain Loss: 2.751 | Train Acc: 30.68%\n",
            "\t Val. Loss: 3.296 |  Val. Acc: 19.78%\n",
            "Epoch: 28 | Epoch Time: 0m 37s\n",
            "\tTrain Loss: 2.724 | Train Acc: 30.50%\n",
            "\t Val. Loss: 3.299 |  Val. Acc: 19.79%\n",
            "Epoch: 29 | Epoch Time: 0m 36s\n",
            "\tTrain Loss: 2.683 | Train Acc: 31.83%\n",
            "\t Val. Loss: 3.266 |  Val. Acc: 21.34%\n",
            "Epoch: 30 | Epoch Time: 0m 36s\n",
            "\tTrain Loss: 2.668 | Train Acc: 32.12%\n",
            "\t Val. Loss: 3.276 |  Val. Acc: 20.46%\n",
            "Epoch: 31 | Epoch Time: 0m 35s\n",
            "\tTrain Loss: 2.663 | Train Acc: 31.65%\n",
            "\t Val. Loss: 3.336 |  Val. Acc: 20.59%\n",
            "Epoch: 32 | Epoch Time: 0m 36s\n",
            "\tTrain Loss: 2.655 | Train Acc: 32.78%\n",
            "\t Val. Loss: 3.282 |  Val. Acc: 20.71%\n",
            "Epoch: 33 | Epoch Time: 0m 35s\n",
            "\tTrain Loss: 2.603 | Train Acc: 33.36%\n",
            "\t Val. Loss: 3.306 |  Val. Acc: 19.82%\n",
            "Epoch: 34 | Epoch Time: 0m 36s\n",
            "\tTrain Loss: 2.568 | Train Acc: 34.68%\n",
            "\t Val. Loss: 3.310 |  Val. Acc: 20.73%\n",
            "Epoch: 35 | Epoch Time: 0m 35s\n",
            "\tTrain Loss: 2.615 | Train Acc: 33.10%\n",
            "\t Val. Loss: 3.266 |  Val. Acc: 20.76%\n",
            "Epoch: 36 | Epoch Time: 0m 36s\n",
            "\tTrain Loss: 2.541 | Train Acc: 34.76%\n",
            "\t Val. Loss: 3.256 |  Val. Acc: 21.25%\n",
            "Epoch: 37 | Epoch Time: 0m 36s\n",
            "\tTrain Loss: 2.555 | Train Acc: 34.67%\n",
            "\t Val. Loss: 3.324 |  Val. Acc: 21.18%\n",
            "Epoch: 38 | Epoch Time: 0m 35s\n",
            "\tTrain Loss: 2.500 | Train Acc: 36.14%\n",
            "\t Val. Loss: 3.298 |  Val. Acc: 20.19%\n",
            "Epoch: 39 | Epoch Time: 0m 35s\n",
            "\tTrain Loss: 2.488 | Train Acc: 36.11%\n",
            "\t Val. Loss: 3.257 |  Val. Acc: 21.66%\n",
            "Epoch: 40 | Epoch Time: 0m 36s\n",
            "\tTrain Loss: 2.464 | Train Acc: 36.38%\n",
            "\t Val. Loss: 3.292 |  Val. Acc: 20.71%\n",
            "Epoch: 41 | Epoch Time: 0m 36s\n",
            "\tTrain Loss: 2.478 | Train Acc: 35.23%\n",
            "\t Val. Loss: 3.267 |  Val. Acc: 21.91%\n",
            "Epoch: 42 | Epoch Time: 0m 36s\n",
            "\tTrain Loss: 2.451 | Train Acc: 36.52%\n",
            "\t Val. Loss: 3.245 |  Val. Acc: 21.45%\n",
            "Epoch: 43 | Epoch Time: 0m 36s\n",
            "\tTrain Loss: 2.440 | Train Acc: 36.78%\n",
            "\t Val. Loss: 3.342 |  Val. Acc: 20.76%\n",
            "Epoch: 44 | Epoch Time: 0m 35s\n",
            "\tTrain Loss: 2.447 | Train Acc: 36.17%\n",
            "\t Val. Loss: 3.298 |  Val. Acc: 21.14%\n",
            "Epoch: 45 | Epoch Time: 0m 36s\n",
            "\tTrain Loss: 2.382 | Train Acc: 38.17%\n",
            "\t Val. Loss: 3.295 |  Val. Acc: 21.95%\n",
            "Epoch: 46 | Epoch Time: 0m 35s\n",
            "\tTrain Loss: 2.403 | Train Acc: 37.78%\n",
            "\t Val. Loss: 3.309 |  Val. Acc: 21.76%\n",
            "Epoch: 47 | Epoch Time: 0m 36s\n",
            "\tTrain Loss: 2.368 | Train Acc: 38.02%\n",
            "\t Val. Loss: 3.324 |  Val. Acc: 20.89%\n",
            "Epoch: 48 | Epoch Time: 0m 35s\n",
            "\tTrain Loss: 2.369 | Train Acc: 38.96%\n",
            "\t Val. Loss: 3.305 |  Val. Acc: 21.80%\n",
            "Epoch: 49 | Epoch Time: 0m 36s\n",
            "\tTrain Loss: 2.299 | Train Acc: 40.10%\n",
            "\t Val. Loss: 3.341 |  Val. Acc: 20.79%\n",
            "Epoch: 50 | Epoch Time: 0m 35s\n",
            "\tTrain Loss: 2.358 | Train Acc: 38.95%\n",
            "\t Val. Loss: 3.350 |  Val. Acc: 20.63%\n",
            "Epoch: 51 | Epoch Time: 0m 35s\n",
            "\tTrain Loss: 2.269 | Train Acc: 39.85%\n",
            "\t Val. Loss: 3.337 |  Val. Acc: 21.00%\n",
            "Epoch: 52 | Epoch Time: 0m 36s\n",
            "\tTrain Loss: 2.324 | Train Acc: 40.12%\n",
            "\t Val. Loss: 3.320 |  Val. Acc: 21.55%\n",
            "Epoch: 53 | Epoch Time: 0m 36s\n",
            "\tTrain Loss: 2.255 | Train Acc: 39.98%\n",
            "\t Val. Loss: 3.321 |  Val. Acc: 21.70%\n",
            "Epoch: 54 | Epoch Time: 0m 36s\n",
            "\tTrain Loss: 2.256 | Train Acc: 39.79%\n",
            "\t Val. Loss: 3.292 |  Val. Acc: 22.27%\n",
            "Epoch: 55 | Epoch Time: 0m 35s\n",
            "\tTrain Loss: 2.255 | Train Acc: 41.07%\n",
            "\t Val. Loss: 3.326 |  Val. Acc: 22.60%\n",
            "Epoch: 56 | Epoch Time: 0m 35s\n",
            "\tTrain Loss: 2.214 | Train Acc: 41.35%\n",
            "\t Val. Loss: 3.390 |  Val. Acc: 21.57%\n",
            "Epoch: 57 | Epoch Time: 0m 35s\n",
            "\tTrain Loss: 2.216 | Train Acc: 41.76%\n",
            "\t Val. Loss: 3.370 |  Val. Acc: 21.50%\n",
            "Epoch: 58 | Epoch Time: 0m 35s\n",
            "\tTrain Loss: 2.205 | Train Acc: 42.83%\n",
            "\t Val. Loss: 3.370 |  Val. Acc: 21.80%\n"
          ],
          "name": "stdout"
        },
        {
          "output_type": "error",
          "ename": "KeyboardInterrupt",
          "evalue": "ignored",
          "traceback": [
            "\u001b[0;31m---------------------------------------------------------------------------\u001b[0m",
            "\u001b[0;31mKeyboardInterrupt\u001b[0m                         Traceback (most recent call last)",
            "\u001b[0;32m<ipython-input-70-e93c7c6ea4ad>\u001b[0m in \u001b[0;36m<module>\u001b[0;34m()\u001b[0m\n\u001b[1;32m      7\u001b[0m     \u001b[0mstart_time\u001b[0m \u001b[0;34m=\u001b[0m \u001b[0mtime\u001b[0m\u001b[0;34m.\u001b[0m\u001b[0mtime\u001b[0m\u001b[0;34m(\u001b[0m\u001b[0;34m)\u001b[0m\u001b[0;34m\u001b[0m\u001b[0;34m\u001b[0m\u001b[0m\n\u001b[1;32m      8\u001b[0m \u001b[0;34m\u001b[0m\u001b[0m\n\u001b[0;32m----> 9\u001b[0;31m     \u001b[0mtrain_loss\u001b[0m\u001b[0;34m,\u001b[0m \u001b[0mtrain_acc\u001b[0m \u001b[0;34m=\u001b[0m \u001b[0mtrain\u001b[0m\u001b[0;34m(\u001b[0m\u001b[0mmodel\u001b[0m\u001b[0;34m,\u001b[0m \u001b[0mtrain_iterator\u001b[0m\u001b[0;34m,\u001b[0m \u001b[0moptimizer\u001b[0m\u001b[0;34m,\u001b[0m \u001b[0mcriterion\u001b[0m\u001b[0;34m,\u001b[0m \u001b[0mdevice\u001b[0m\u001b[0;34m)\u001b[0m\u001b[0;34m\u001b[0m\u001b[0;34m\u001b[0m\u001b[0m\n\u001b[0m\u001b[1;32m     10\u001b[0m     \u001b[0mvalid_loss\u001b[0m\u001b[0;34m,\u001b[0m \u001b[0mvalid_acc\u001b[0m \u001b[0;34m=\u001b[0m \u001b[0mevaluate\u001b[0m\u001b[0;34m(\u001b[0m\u001b[0mmodel\u001b[0m\u001b[0;34m,\u001b[0m \u001b[0mvalid_iterator\u001b[0m\u001b[0;34m,\u001b[0m \u001b[0mcriterion\u001b[0m\u001b[0;34m,\u001b[0m \u001b[0mdevice\u001b[0m\u001b[0;34m)\u001b[0m\u001b[0;34m\u001b[0m\u001b[0;34m\u001b[0m\u001b[0m\n\u001b[1;32m     11\u001b[0m \u001b[0;34m\u001b[0m\u001b[0m\n",
            "\u001b[0;32m<ipython-input-67-1f4a16f74099>\u001b[0m in \u001b[0;36mtrain\u001b[0;34m(model, iterator, optimizer, criterion, device)\u001b[0m\n\u001b[1;32m      6\u001b[0m     \u001b[0mmodel\u001b[0m\u001b[0;34m.\u001b[0m\u001b[0mtrain\u001b[0m\u001b[0;34m(\u001b[0m\u001b[0;34m)\u001b[0m\u001b[0;34m\u001b[0m\u001b[0;34m\u001b[0m\u001b[0m\n\u001b[1;32m      7\u001b[0m \u001b[0;34m\u001b[0m\u001b[0m\n\u001b[0;32m----> 8\u001b[0;31m     \u001b[0;32mfor\u001b[0m \u001b[0;34m(\u001b[0m\u001b[0mx\u001b[0m\u001b[0;34m,\u001b[0m \u001b[0my\u001b[0m\u001b[0;34m)\u001b[0m \u001b[0;32min\u001b[0m \u001b[0miterator\u001b[0m\u001b[0;34m:\u001b[0m\u001b[0;34m\u001b[0m\u001b[0;34m\u001b[0m\u001b[0m\n\u001b[0m\u001b[1;32m      9\u001b[0m \u001b[0;34m\u001b[0m\u001b[0m\n\u001b[1;32m     10\u001b[0m         \u001b[0mx\u001b[0m \u001b[0;34m=\u001b[0m \u001b[0mx\u001b[0m\u001b[0;34m.\u001b[0m\u001b[0mto\u001b[0m\u001b[0;34m(\u001b[0m\u001b[0mdevice\u001b[0m\u001b[0;34m)\u001b[0m\u001b[0;34m\u001b[0m\u001b[0;34m\u001b[0m\u001b[0m\n",
            "\u001b[0;32m/usr/local/lib/python3.6/dist-packages/torch/utils/data/dataloader.py\u001b[0m in \u001b[0;36m__next__\u001b[0;34m(self)\u001b[0m\n\u001b[1;32m    343\u001b[0m \u001b[0;34m\u001b[0m\u001b[0m\n\u001b[1;32m    344\u001b[0m     \u001b[0;32mdef\u001b[0m \u001b[0m__next__\u001b[0m\u001b[0;34m(\u001b[0m\u001b[0mself\u001b[0m\u001b[0;34m)\u001b[0m\u001b[0;34m:\u001b[0m\u001b[0;34m\u001b[0m\u001b[0;34m\u001b[0m\u001b[0m\n\u001b[0;32m--> 345\u001b[0;31m         \u001b[0mdata\u001b[0m \u001b[0;34m=\u001b[0m \u001b[0mself\u001b[0m\u001b[0;34m.\u001b[0m\u001b[0m_next_data\u001b[0m\u001b[0;34m(\u001b[0m\u001b[0;34m)\u001b[0m\u001b[0;34m\u001b[0m\u001b[0;34m\u001b[0m\u001b[0m\n\u001b[0m\u001b[1;32m    346\u001b[0m         \u001b[0mself\u001b[0m\u001b[0;34m.\u001b[0m\u001b[0m_num_yielded\u001b[0m \u001b[0;34m+=\u001b[0m \u001b[0;36m1\u001b[0m\u001b[0;34m\u001b[0m\u001b[0;34m\u001b[0m\u001b[0m\n\u001b[1;32m    347\u001b[0m         \u001b[0;32mif\u001b[0m \u001b[0mself\u001b[0m\u001b[0;34m.\u001b[0m\u001b[0m_dataset_kind\u001b[0m \u001b[0;34m==\u001b[0m \u001b[0m_DatasetKind\u001b[0m\u001b[0;34m.\u001b[0m\u001b[0mIterable\u001b[0m \u001b[0;32mand\u001b[0m\u001b[0;31m \u001b[0m\u001b[0;31m\\\u001b[0m\u001b[0;34m\u001b[0m\u001b[0;34m\u001b[0m\u001b[0m\n",
            "\u001b[0;32m/usr/local/lib/python3.6/dist-packages/torch/utils/data/dataloader.py\u001b[0m in \u001b[0;36m_next_data\u001b[0;34m(self)\u001b[0m\n\u001b[1;32m    383\u001b[0m     \u001b[0;32mdef\u001b[0m \u001b[0m_next_data\u001b[0m\u001b[0;34m(\u001b[0m\u001b[0mself\u001b[0m\u001b[0;34m)\u001b[0m\u001b[0;34m:\u001b[0m\u001b[0;34m\u001b[0m\u001b[0;34m\u001b[0m\u001b[0m\n\u001b[1;32m    384\u001b[0m         \u001b[0mindex\u001b[0m \u001b[0;34m=\u001b[0m \u001b[0mself\u001b[0m\u001b[0;34m.\u001b[0m\u001b[0m_next_index\u001b[0m\u001b[0;34m(\u001b[0m\u001b[0;34m)\u001b[0m  \u001b[0;31m# may raise StopIteration\u001b[0m\u001b[0;34m\u001b[0m\u001b[0;34m\u001b[0m\u001b[0m\n\u001b[0;32m--> 385\u001b[0;31m         \u001b[0mdata\u001b[0m \u001b[0;34m=\u001b[0m \u001b[0mself\u001b[0m\u001b[0;34m.\u001b[0m\u001b[0m_dataset_fetcher\u001b[0m\u001b[0;34m.\u001b[0m\u001b[0mfetch\u001b[0m\u001b[0;34m(\u001b[0m\u001b[0mindex\u001b[0m\u001b[0;34m)\u001b[0m  \u001b[0;31m# may raise StopIteration\u001b[0m\u001b[0;34m\u001b[0m\u001b[0;34m\u001b[0m\u001b[0m\n\u001b[0m\u001b[1;32m    386\u001b[0m         \u001b[0;32mif\u001b[0m \u001b[0mself\u001b[0m\u001b[0;34m.\u001b[0m\u001b[0m_pin_memory\u001b[0m\u001b[0;34m:\u001b[0m\u001b[0;34m\u001b[0m\u001b[0;34m\u001b[0m\u001b[0m\n\u001b[1;32m    387\u001b[0m             \u001b[0mdata\u001b[0m \u001b[0;34m=\u001b[0m \u001b[0m_utils\u001b[0m\u001b[0;34m.\u001b[0m\u001b[0mpin_memory\u001b[0m\u001b[0;34m.\u001b[0m\u001b[0mpin_memory\u001b[0m\u001b[0;34m(\u001b[0m\u001b[0mdata\u001b[0m\u001b[0;34m)\u001b[0m\u001b[0;34m\u001b[0m\u001b[0;34m\u001b[0m\u001b[0m\n",
            "\u001b[0;32m/usr/local/lib/python3.6/dist-packages/torch/utils/data/_utils/fetch.py\u001b[0m in \u001b[0;36mfetch\u001b[0;34m(self, possibly_batched_index)\u001b[0m\n\u001b[1;32m     42\u001b[0m     \u001b[0;32mdef\u001b[0m \u001b[0mfetch\u001b[0m\u001b[0;34m(\u001b[0m\u001b[0mself\u001b[0m\u001b[0;34m,\u001b[0m \u001b[0mpossibly_batched_index\u001b[0m\u001b[0;34m)\u001b[0m\u001b[0;34m:\u001b[0m\u001b[0;34m\u001b[0m\u001b[0;34m\u001b[0m\u001b[0m\n\u001b[1;32m     43\u001b[0m         \u001b[0;32mif\u001b[0m \u001b[0mself\u001b[0m\u001b[0;34m.\u001b[0m\u001b[0mauto_collation\u001b[0m\u001b[0;34m:\u001b[0m\u001b[0;34m\u001b[0m\u001b[0;34m\u001b[0m\u001b[0m\n\u001b[0;32m---> 44\u001b[0;31m             \u001b[0mdata\u001b[0m \u001b[0;34m=\u001b[0m \u001b[0;34m[\u001b[0m\u001b[0mself\u001b[0m\u001b[0;34m.\u001b[0m\u001b[0mdataset\u001b[0m\u001b[0;34m[\u001b[0m\u001b[0midx\u001b[0m\u001b[0;34m]\u001b[0m \u001b[0;32mfor\u001b[0m \u001b[0midx\u001b[0m \u001b[0;32min\u001b[0m \u001b[0mpossibly_batched_index\u001b[0m\u001b[0;34m]\u001b[0m\u001b[0;34m\u001b[0m\u001b[0;34m\u001b[0m\u001b[0m\n\u001b[0m\u001b[1;32m     45\u001b[0m         \u001b[0;32melse\u001b[0m\u001b[0;34m:\u001b[0m\u001b[0;34m\u001b[0m\u001b[0;34m\u001b[0m\u001b[0m\n\u001b[1;32m     46\u001b[0m             \u001b[0mdata\u001b[0m \u001b[0;34m=\u001b[0m \u001b[0mself\u001b[0m\u001b[0;34m.\u001b[0m\u001b[0mdataset\u001b[0m\u001b[0;34m[\u001b[0m\u001b[0mpossibly_batched_index\u001b[0m\u001b[0;34m]\u001b[0m\u001b[0;34m\u001b[0m\u001b[0;34m\u001b[0m\u001b[0m\n",
            "\u001b[0;32m/usr/local/lib/python3.6/dist-packages/torch/utils/data/_utils/fetch.py\u001b[0m in \u001b[0;36m<listcomp>\u001b[0;34m(.0)\u001b[0m\n\u001b[1;32m     42\u001b[0m     \u001b[0;32mdef\u001b[0m \u001b[0mfetch\u001b[0m\u001b[0;34m(\u001b[0m\u001b[0mself\u001b[0m\u001b[0;34m,\u001b[0m \u001b[0mpossibly_batched_index\u001b[0m\u001b[0;34m)\u001b[0m\u001b[0;34m:\u001b[0m\u001b[0;34m\u001b[0m\u001b[0;34m\u001b[0m\u001b[0m\n\u001b[1;32m     43\u001b[0m         \u001b[0;32mif\u001b[0m \u001b[0mself\u001b[0m\u001b[0;34m.\u001b[0m\u001b[0mauto_collation\u001b[0m\u001b[0;34m:\u001b[0m\u001b[0;34m\u001b[0m\u001b[0;34m\u001b[0m\u001b[0m\n\u001b[0;32m---> 44\u001b[0;31m             \u001b[0mdata\u001b[0m \u001b[0;34m=\u001b[0m \u001b[0;34m[\u001b[0m\u001b[0mself\u001b[0m\u001b[0;34m.\u001b[0m\u001b[0mdataset\u001b[0m\u001b[0;34m[\u001b[0m\u001b[0midx\u001b[0m\u001b[0;34m]\u001b[0m \u001b[0;32mfor\u001b[0m \u001b[0midx\u001b[0m \u001b[0;32min\u001b[0m \u001b[0mpossibly_batched_index\u001b[0m\u001b[0;34m]\u001b[0m\u001b[0;34m\u001b[0m\u001b[0;34m\u001b[0m\u001b[0m\n\u001b[0m\u001b[1;32m     45\u001b[0m         \u001b[0;32melse\u001b[0m\u001b[0;34m:\u001b[0m\u001b[0;34m\u001b[0m\u001b[0;34m\u001b[0m\u001b[0m\n\u001b[1;32m     46\u001b[0m             \u001b[0mdata\u001b[0m \u001b[0;34m=\u001b[0m \u001b[0mself\u001b[0m\u001b[0;34m.\u001b[0m\u001b[0mdataset\u001b[0m\u001b[0;34m[\u001b[0m\u001b[0mpossibly_batched_index\u001b[0m\u001b[0;34m]\u001b[0m\u001b[0;34m\u001b[0m\u001b[0;34m\u001b[0m\u001b[0m\n",
            "\u001b[0;32m/usr/local/lib/python3.6/dist-packages/torchvision/datasets/folder.py\u001b[0m in \u001b[0;36m__getitem__\u001b[0;34m(self, index)\u001b[0m\n\u001b[1;32m    133\u001b[0m         \"\"\"\n\u001b[1;32m    134\u001b[0m         \u001b[0mpath\u001b[0m\u001b[0;34m,\u001b[0m \u001b[0mtarget\u001b[0m \u001b[0;34m=\u001b[0m \u001b[0mself\u001b[0m\u001b[0;34m.\u001b[0m\u001b[0msamples\u001b[0m\u001b[0;34m[\u001b[0m\u001b[0mindex\u001b[0m\u001b[0;34m]\u001b[0m\u001b[0;34m\u001b[0m\u001b[0;34m\u001b[0m\u001b[0m\n\u001b[0;32m--> 135\u001b[0;31m         \u001b[0msample\u001b[0m \u001b[0;34m=\u001b[0m \u001b[0mself\u001b[0m\u001b[0;34m.\u001b[0m\u001b[0mloader\u001b[0m\u001b[0;34m(\u001b[0m\u001b[0mpath\u001b[0m\u001b[0;34m)\u001b[0m\u001b[0;34m\u001b[0m\u001b[0;34m\u001b[0m\u001b[0m\n\u001b[0m\u001b[1;32m    136\u001b[0m         \u001b[0;32mif\u001b[0m \u001b[0mself\u001b[0m\u001b[0;34m.\u001b[0m\u001b[0mtransform\u001b[0m \u001b[0;32mis\u001b[0m \u001b[0;32mnot\u001b[0m \u001b[0;32mNone\u001b[0m\u001b[0;34m:\u001b[0m\u001b[0;34m\u001b[0m\u001b[0;34m\u001b[0m\u001b[0m\n\u001b[1;32m    137\u001b[0m             \u001b[0msample\u001b[0m \u001b[0;34m=\u001b[0m \u001b[0mself\u001b[0m\u001b[0;34m.\u001b[0m\u001b[0mtransform\u001b[0m\u001b[0;34m(\u001b[0m\u001b[0msample\u001b[0m\u001b[0;34m)\u001b[0m\u001b[0;34m\u001b[0m\u001b[0;34m\u001b[0m\u001b[0m\n",
            "\u001b[0;32m/usr/local/lib/python3.6/dist-packages/torchvision/datasets/folder.py\u001b[0m in \u001b[0;36mdefault_loader\u001b[0;34m(path)\u001b[0m\n\u001b[1;32m    169\u001b[0m         \u001b[0;32mreturn\u001b[0m \u001b[0maccimage_loader\u001b[0m\u001b[0;34m(\u001b[0m\u001b[0mpath\u001b[0m\u001b[0;34m)\u001b[0m\u001b[0;34m\u001b[0m\u001b[0;34m\u001b[0m\u001b[0m\n\u001b[1;32m    170\u001b[0m     \u001b[0;32melse\u001b[0m\u001b[0;34m:\u001b[0m\u001b[0;34m\u001b[0m\u001b[0;34m\u001b[0m\u001b[0m\n\u001b[0;32m--> 171\u001b[0;31m         \u001b[0;32mreturn\u001b[0m \u001b[0mpil_loader\u001b[0m\u001b[0;34m(\u001b[0m\u001b[0mpath\u001b[0m\u001b[0;34m)\u001b[0m\u001b[0;34m\u001b[0m\u001b[0;34m\u001b[0m\u001b[0m\n\u001b[0m\u001b[1;32m    172\u001b[0m \u001b[0;34m\u001b[0m\u001b[0m\n\u001b[1;32m    173\u001b[0m \u001b[0;34m\u001b[0m\u001b[0m\n",
            "\u001b[0;32m/usr/local/lib/python3.6/dist-packages/torchvision/datasets/folder.py\u001b[0m in \u001b[0;36mpil_loader\u001b[0;34m(path)\u001b[0m\n\u001b[1;32m    150\u001b[0m \u001b[0;32mdef\u001b[0m \u001b[0mpil_loader\u001b[0m\u001b[0;34m(\u001b[0m\u001b[0mpath\u001b[0m\u001b[0;34m)\u001b[0m\u001b[0;34m:\u001b[0m\u001b[0;34m\u001b[0m\u001b[0;34m\u001b[0m\u001b[0m\n\u001b[1;32m    151\u001b[0m     \u001b[0;31m# open path as file to avoid ResourceWarning (https://github.com/python-pillow/Pillow/issues/835)\u001b[0m\u001b[0;34m\u001b[0m\u001b[0;34m\u001b[0m\u001b[0;34m\u001b[0m\u001b[0m\n\u001b[0;32m--> 152\u001b[0;31m     \u001b[0;32mwith\u001b[0m \u001b[0mopen\u001b[0m\u001b[0;34m(\u001b[0m\u001b[0mpath\u001b[0m\u001b[0;34m,\u001b[0m \u001b[0;34m'rb'\u001b[0m\u001b[0;34m)\u001b[0m \u001b[0;32mas\u001b[0m \u001b[0mf\u001b[0m\u001b[0;34m:\u001b[0m\u001b[0;34m\u001b[0m\u001b[0;34m\u001b[0m\u001b[0m\n\u001b[0m\u001b[1;32m    153\u001b[0m         \u001b[0mimg\u001b[0m \u001b[0;34m=\u001b[0m \u001b[0mImage\u001b[0m\u001b[0;34m.\u001b[0m\u001b[0mopen\u001b[0m\u001b[0;34m(\u001b[0m\u001b[0mf\u001b[0m\u001b[0;34m)\u001b[0m\u001b[0;34m\u001b[0m\u001b[0;34m\u001b[0m\u001b[0m\n\u001b[1;32m    154\u001b[0m         \u001b[0;32mreturn\u001b[0m \u001b[0mimg\u001b[0m\u001b[0;34m.\u001b[0m\u001b[0mconvert\u001b[0m\u001b[0;34m(\u001b[0m\u001b[0;34m'RGB'\u001b[0m\u001b[0;34m)\u001b[0m\u001b[0;34m\u001b[0m\u001b[0;34m\u001b[0m\u001b[0m\n",
            "\u001b[0;31mKeyboardInterrupt\u001b[0m: "
          ]
        }
      ]
    },
    {
      "cell_type": "code",
      "metadata": {
        "id": "YCyDk_Q95LTc",
        "colab_type": "code",
        "colab": {}
      },
      "source": [
        ""
      ],
      "execution_count": null,
      "outputs": []
    }
  ]
}